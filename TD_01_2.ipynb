{
 "cells": [
  {
   "cell_type": "code",
   "execution_count": 2,
   "metadata": {
    "hide_input": true,
    "hide_output": true,
    "init_cell": true,
    "run_control": {
     "marked": false
    }
   },
   "outputs": [
    {
     "data": {
      "application/javascript": [
       "\n",
       "function repeter(){\n",
       "IPython.notebook.kernel.execute(\"a=1\");\n",
       "}\n",
       "// execute a = 1 en python toutes les 8 minutes pendant 2h\n",
       "let timerId = setInterval(() => repeter(), 4800);\n",
       "setTimeout(() => { clearInterval(timerId); alert('fin de cession'); }, 7200000);\n",
       "\n",
       "// Supprimer la taille limite pour la sortie d'une cellule\n",
       "IPython.OutputArea.prototype._should_scroll = function(lines) {\n",
       "    return false;\n",
       "};\n",
       "IPython.notebook.kernel.execute(\"url = '\" + window.location + \"'\");\n",
       "\n",
       "// Exécuter toutes les cellule du notebook\n",
       "    require(\n",
       "        ['base/js/namespace', 'jquery'], \n",
       "        function(jupyter, $) {\n",
       "            \n",
       "                \n",
       "                jupyter.actions.call('jupyter-notebook:run-all-cells-below');\n",
       "                jupyter.actions.call('jupyter-notebook:save-notebook');\n",
       "                Jupyter.actions.call('jupyter-notebook:hide-header')\n",
       "\n",
       "        }\n",
       "    );"
      ],
      "text/plain": [
       "<IPython.core.display.Javascript object>"
      ]
     },
     "execution_count": 2,
     "metadata": {},
     "output_type": "execute_result"
    }
   ],
   "source": [
    "# Permet de tout executer au lancement du notebook + conserver le notebook actif pendant 2h\n",
    "from IPython.display import Javascript\n",
    "from masquer import *\n",
    "Javascript(\"\"\"\n",
    "function repeter(){\n",
    "IPython.notebook.kernel.execute(\"a=1\");\n",
    "}\n",
    "// execute a = 1 en python toutes les 8 minutes pendant 2h\n",
    "let timerId = setInterval(() => repeter(), 4800);\n",
    "setTimeout(() => { clearInterval(timerId); alert('fin de cession'); }, 7200000);\n",
    "\n",
    "// Supprimer la taille limite pour la sortie d'une cellule\n",
    "IPython.OutputArea.prototype._should_scroll = function(lines) {\n",
    "    return false;\n",
    "};\n",
    "IPython.notebook.kernel.execute(\"url = '\" + window.location + \"'\");\n",
    "\n",
    "// Exécuter toutes les cellule du notebook\n",
    "    require(\n",
    "        ['base/js/namespace', 'jquery'], \n",
    "        function(jupyter, $) {\n",
    "            \n",
    "                \n",
    "                jupyter.actions.call('jupyter-notebook:run-all-cells-below');\n",
    "                jupyter.actions.call('jupyter-notebook:save-notebook');\n",
    "                Jupyter.actions.call('jupyter-notebook:hide-header')\n",
    "\n",
    "        }\n",
    "    );\"\"\")"
   ]
  },
  {
   "cell_type": "markdown",
   "metadata": {
    "slideshow": {
     "slide_type": "slide"
    }
   },
   "source": [
    "# <span style=\"color:red;\"><center> TD - Les booléens </span>"
   ]
  },
  {
   "cell_type": "markdown",
   "metadata": {},
   "source": [
    "Pour l'intérêt du TD, nous allons recréer les fonctions booléennes et les booléens dans Python, tout en évitant d’utiliser ceux déjà définis.\n",
    "\n",
    "\n",
    "Les booléens seront représentés par les entiers 0 et 1. Pour construire les opérateurs booléens, nous allons juste utiliser l’égalité sur les entiers.\n",
    "\n",
    "Il y a plusieurs façons de construire les opérateurs booléens. On pourrait directement définir $et$, $ou$ et $non$, mais nous allons commencer par définir une seule opération, $nand$, qui correspond à $non\\,et$. Cette opération est **universelle**. C’est à dire qu’elle **permet de définir\n",
    "toutes les autres**."
   ]
  },
  {
   "cell_type": "markdown",
   "metadata": {
    "slideshow": {
     "slide_type": "slide"
    }
   },
   "source": [
    "## 1. Les opérateurs de base à partir de $nand$"
   ]
  },
  {
   "cell_type": "markdown",
   "metadata": {
    "slideshow": {
     "slide_type": "-"
    }
   },
   "source": [
    "### 1.1 L'opérateur $nand$\n",
    "\n",
    "L'opérateur $nand$ est défini par la table de vérité suivante :\n",
    "\n",
    "| a | b |   a nand b   |\n",
    "|:-:|:-:|:------------:|\n",
    "| 0 | 0 |       1      |\n",
    "| 0 | 1 |       1      |\n",
    "| 1 | 0 |       1      |\n",
    "| 1 | 1 |       0      |"
   ]
  },
  {
   "cell_type": "markdown",
   "metadata": {
    "slideshow": {
     "slide_type": "subslide"
    }
   },
   "source": [
    "En Python, on peut le définir à l 'aide de la fonction suivante :"
   ]
  },
  {
   "cell_type": "code",
   "execution_count": 2,
   "metadata": {
    "slideshow": {
     "slide_type": "-"
    }
   },
   "outputs": [],
   "source": [
    "#Fonction correspondant à l'opérateur nand\n",
    "def nand(a, b):\n",
    "    if a == 0:\n",
    "        return 1\n",
    "    if b == 0:\n",
    "        return 1\n",
    "    return 0"
   ]
  },
  {
   "cell_type": "markdown",
   "metadata": {
    "slideshow": {
     "slide_type": "subslide"
    }
   },
   "source": [
    "Vérification de la table de vérité correspondante :"
   ]
  },
  {
   "cell_type": "code",
   "execution_count": 4,
   "metadata": {
    "run_control": {
     "marked": true
    },
    "slideshow": {
     "slide_type": "-"
    }
   },
   "outputs": [
    {
     "name": "stdout",
     "output_type": "stream",
     "text": [
      "a b   a nand b\n",
      "0 0      1\n",
      "0 1      1\n",
      "1 0      1\n",
      "1 1      0\n"
     ]
    }
   ],
   "source": [
    "#Fonction pour afficher la table de vérité d'un opérateur à 2 entrées\n",
    "def table2(expr):\n",
    "    print(\"a\", \"b\",' ', \"a\", expr.__name__,\"b\")\n",
    "    for a in range(2):\n",
    "        for b in range(2):\n",
    "            print(a, b, '    ',expr(a,b))\n",
    "# Affichage de la table de nand\n",
    "table2(nand)"
   ]
  },
  {
   "cell_type": "markdown",
   "metadata": {
    "slideshow": {
     "slide_type": "slide"
    }
   },
   "source": [
    "### 1.2 Les opérateurs $et$ et $non$"
   ]
  },
  {
   "cell_type": "markdown",
   "metadata": {
    "slideshow": {
     "slide_type": "-"
    }
   },
   "source": [
    "**Q1. Calculer ce que donne $a\\, nand\\, a$ et en déduire comment compléter la fonction `non(a)` ci-dessous en utilisant uniquement la fonction `nand()`.**"
   ]
  },
  {
   "cell_type": "code",
   "execution_count": 7,
   "metadata": {
    "slideshow": {
     "slide_type": "-"
    }
   },
   "outputs": [
    {
     "name": "stdout",
     "output_type": "stream",
     "text": [
      "a   non a\n",
      "0     Ellipsis\n",
      "1     Ellipsis\n"
     ]
    }
   ],
   "source": [
    "# Question 1\n",
    "def non(a):\n",
    "    return ...\n",
    "\n",
    "#Fonction pour afficher la table de vérité d'un opérateur à 1 entrée\n",
    "def table1(expr):\n",
    "    print(\"a\",' ',expr.__name__, \"a\")\n",
    "    for a in range(2):\n",
    "        print(a, '   ',expr(a))\n",
    "# Affichage de la table de non\n",
    "table1(non)"
   ]
  },
  {
   "cell_type": "markdown",
   "metadata": {
    "slideshow": {
     "slide_type": "subslide"
    }
   },
   "source": [
    "**Q2.  En se rappelant que $non(non\\,a) = a$, exprimer $and$ en fonction de $nand$ s'en servir pour compléter la fonction `et(a,b)` ci-dessous  en utilisant uniquement les fonctions `non()`et `nand()`. Utiliser `table2()` pour vérifier sa table de vérité.**"
   ]
  },
  {
   "cell_type": "code",
   "execution_count": 8,
   "metadata": {
    "slideshow": {
     "slide_type": "-"
    }
   },
   "outputs": [
    {
     "name": "stdout",
     "output_type": "stream",
     "text": [
      "a b   a et b\n",
      "0 0      Ellipsis\n",
      "0 1      Ellipsis\n",
      "1 0      Ellipsis\n",
      "1 1      Ellipsis\n"
     ]
    }
   ],
   "source": [
    "# Question 2\n",
    "def et(a, b):\n",
    "    return ...\n",
    "table2(et)"
   ]
  },
  {
   "cell_type": "markdown",
   "metadata": {
    "slideshow": {
     "slide_type": "slide"
    }
   },
   "source": [
    "### 1.3 Les opérateur $ou$ et $xor$\n",
    "\n",
    "**Q3. En utilisant les fonctions `nand(a,b)` et `non(a)` définis précédemment, écrire la fonction `ou(a,b)`.**"
   ]
  },
  {
   "cell_type": "code",
   "execution_count": 9,
   "metadata": {
    "slideshow": {
     "slide_type": "-"
    }
   },
   "outputs": [
    {
     "name": "stdout",
     "output_type": "stream",
     "text": [
      "a b   a ou b\n",
      "0 0      Ellipsis\n",
      "0 1      Ellipsis\n",
      "1 0      Ellipsis\n",
      "1 1      Ellipsis\n"
     ]
    }
   ],
   "source": [
    "# Question 3\n",
    "def ou(a, b):\n",
    "    return ...\n",
    "table2(ou)"
   ]
  },
  {
   "cell_type": "markdown",
   "metadata": {
    "slideshow": {
     "slide_type": "subslide"
    }
   },
   "source": [
    "**Q4. Sachant que $a\\, xor \\, b =(a\\,nand\\, (a\\, nand\\,b))\\, nand\\, (b \\, nand\\,(a\\, nand\\, b))$, écrire la fonction `xor(a,b)` à l'aide de la fonction `nand(a,b)`.**"
   ]
  },
  {
   "cell_type": "code",
   "execution_count": 10,
   "metadata": {
    "slideshow": {
     "slide_type": "-"
    }
   },
   "outputs": [
    {
     "name": "stdout",
     "output_type": "stream",
     "text": [
      "a b   a xor b\n",
      "0 0      Ellipsis\n",
      "0 1      Ellipsis\n",
      "1 0      Ellipsis\n",
      "1 1      Ellipsis\n"
     ]
    }
   ],
   "source": [
    "# Question 4\n",
    "def xor(a, b):\n",
    "    return ...\n",
    "table2(xor)"
   ]
  },
  {
   "cell_type": "markdown",
   "metadata": {
    "slideshow": {
     "slide_type": "slide"
    }
   },
   "source": [
    "## 2. Allons un peu plus loin ..."
   ]
  },
  {
   "cell_type": "markdown",
   "metadata": {
    "slideshow": {
     "slide_type": "-"
    }
   },
   "source": [
    "### 2.1 L'implication\n",
    "\n",
    "**Q5. Programmer une fonction `impl(a,b)` qui correspond à l'implication $a \\Rightarrow b = (non\\, a) \\, ou\\, b$ à l'aide des fonctions `non(a)` et `ou(a,b)`.**"
   ]
  },
  {
   "cell_type": "code",
   "execution_count": 11,
   "metadata": {
    "slideshow": {
     "slide_type": "-"
    }
   },
   "outputs": [
    {
     "name": "stdout",
     "output_type": "stream",
     "text": [
      "a b   a impl b\n",
      "0 0      Ellipsis\n",
      "0 1      Ellipsis\n",
      "1 0      Ellipsis\n",
      "1 1      Ellipsis\n"
     ]
    }
   ],
   "source": [
    "# Question 5\n",
    "def impl(a, b):\n",
    "    return ...\n",
    "table2(impl)"
   ]
  },
  {
   "cell_type": "markdown",
   "metadata": {
    "slideshow": {
     "slide_type": "subslide"
    }
   },
   "source": [
    "**Q6. En vous inspirant de `table2(a,b)` construire une fonction `table3(a,b,c)` qui affiche la table de vérité d'une expression à 3 paramètres.**"
   ]
  },
  {
   "cell_type": "code",
   "execution_count": 12,
   "metadata": {
    "slideshow": {
     "slide_type": "-"
    }
   },
   "outputs": [],
   "source": [
    "# Question 6\n",
    "def table3(expr):\n",
    "    ..."
   ]
  },
  {
   "cell_type": "markdown",
   "metadata": {
    "slideshow": {
     "slide_type": "slide"
    }
   },
   "source": [
    "### 2.2 Les axiomes de Hilbert\n",
    "David Hilbert (1862–1943) était un mathématicien allemand qui a essayé de déterminer les axiomes de base permettant de définir et démontrer l’ensemble des propriétés mathématiques.\n",
    "\n",
    "Pour la logique il a donné une liste d’axiomes, qui peuvent s’exprimer ainsi :\n",
    "1. $ a \\Rightarrow (b \\Rightarrow a)$\n",
    "2. $(a \\Rightarrow(b \\Rightarrow c)) \\Rightarrow((a\\Rightarrow b)\\Rightarrow (a\\Rightarrow c))$\n",
    "3. $((non\\, b)\\Rightarrow(non\\, a))\\Rightarrow(a\\Rightarrow b) $\n",
    "4. $a\\Rightarrow(b\\Rightarrow(a\\, et\\, b))$\n",
    "5. $(a\\, et\\, b)\\Rightarrow a $\n",
    "6. $(a\\, et\\, b)\\Rightarrow b$\n",
    "7. $a\\Rightarrow(a \\, ou\\, b) $\n",
    "8. $b\\Rightarrow (a \\,ou\\, b)$\n",
    "9. $(a\\, ou\\, b)\\Rightarrow((a\\Rightarrow c)\\Rightarrow((b\\Rightarrow c)\\Rightarrow c))$"
   ]
  },
  {
   "cell_type": "markdown",
   "metadata": {
    "slideshow": {
     "slide_type": "subslide"
    }
   },
   "source": [
    "**Q7. Vérifier que ces axiomes sont vérifiés dans l’algèbre de Boole, c’est-à-dire que leurs tables de vérité ne donnent que des 1. On définira pour cela des fonctions `axiome1(a,b)`, `axiome2(a,b,c)`, ... qui utilisent les fonctions écrites jusqu'ici et on affichera leurs tables de vérité à l'aide de `table2(expr)`et `table3(expr)`.**"
   ]
  },
  {
   "cell_type": "code",
   "execution_count": 11,
   "metadata": {
    "slideshow": {
     "slide_type": "-"
    }
   },
   "outputs": [],
   "source": [
    "# Question 7"
   ]
  },
  {
   "cell_type": "markdown",
   "metadata": {
    "slideshow": {
     "slide_type": "slide"
    }
   },
   "source": [
    "### 2.3 Repartir de zéro\n",
    "\n",
    "**Q8. Ecrire de nouvelles fonctions `et2(a,b)`, `ou2(a,b)` et `non2(a)` uniquement à l'aide de tests d'égalité, de `if` et de `return`. Vérifier qu'elles fonctionnent à l'aide de `table2(expr)`.**"
   ]
  },
  {
   "cell_type": "code",
   "execution_count": 12,
   "metadata": {
    "slideshow": {
     "slide_type": "-"
    }
   },
   "outputs": [],
   "source": [
    "# Question 8"
   ]
  },
  {
   "cell_type": "markdown",
   "metadata": {
    "slideshow": {
     "slide_type": "slide"
    }
   },
   "source": [
    "### 2.4 Tautologies\n",
    "Une **tautologie** est une expression qui est toujours vraie. Par exemple $1 \\,ou\\, a$ est vraie quelque soit $a$.\n",
    "\n",
    "**Q9. Créer des fonctions `tauto2(expr)` et `tauto3(expr)` qui retourne True si l'expression `expr` est une tautologie et False sinon. La fonction `tauto2(expr)` prend en paramètre des fonctions à 2 paramètres et `tauto3(expr)` des fonctions à 3 paramètres. Utiliser les opérateurs et les axiomes définis précédemment pour les tester.**"
   ]
  },
  {
   "cell_type": "code",
   "execution_count": 14,
   "metadata": {},
   "outputs": [],
   "source": [
    "# Question 9"
   ]
  }
 ],
 "metadata": {
  "celltoolbar": "none",
  "kernelspec": {
   "display_name": "Python 3",
   "language": "python",
   "name": "python3"
  },
  "language_info": {
   "codemirror_mode": {
    "name": "ipython",
    "version": 3
   },
   "file_extension": ".py",
   "mimetype": "text/x-python",
   "name": "python",
   "nbconvert_exporter": "python",
   "pygments_lexer": "ipython3",
   "version": "3.7.4"
  }
 },
 "nbformat": 4,
 "nbformat_minor": 4
}
