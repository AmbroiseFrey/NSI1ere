{
 "cells": [
  {
   "cell_type": "code",
   "execution_count": 2,
   "metadata": {
    "hide_input": true,
    "hide_output": true,
    "init_cell": true,
    "run_control": {
     "marked": false
    }
   },
   "outputs": [
    {
     "data": {
      "application/javascript": [
       "\n",
       "function repeter(){\n",
       "IPython.notebook.kernel.execute(\"a=1\");\n",
       "}\n",
       "// execute a = 1 en python toutes les 8 minutes pendant 2h\n",
       "let timerId = setInterval(() => repeter(), 4800);\n",
       "setTimeout(() => { clearInterval(timerId); alert('fin de cession'); }, 7200000);\n",
       "\n",
       "// Supprimer la taille limite pour la sortie d'une cellule\n",
       "IPython.OutputArea.prototype._should_scroll = function(lines) {\n",
       "    return false;\n",
       "};\n",
       "IPython.notebook.kernel.execute(\"url = '\" + window.location + \"'\");\n",
       "\n",
       "// Exécuter toutes les cellule du notebook\n",
       "    require(\n",
       "        ['base/js/namespace', 'jquery'], \n",
       "        function(jupyter, $) {\n",
       "            \n",
       "                \n",
       "                jupyter.actions.call('jupyter-notebook:run-all-cells-below');\n",
       "                jupyter.actions.call('jupyter-notebook:save-notebook');\n",
       "                Jupyter.actions.call('jupyter-notebook:hide-header')\n",
       "\n",
       "        }\n",
       "    );"
      ],
      "text/plain": [
       "<IPython.core.display.Javascript object>"
      ]
     },
     "execution_count": 2,
     "metadata": {},
     "output_type": "execute_result"
    }
   ],
   "source": [
    "# Permet de tout executer au lancement du notebook + conserver le notebook actif pendant 2h\n",
    "from IPython.display import Javascript\n",
    "from masquer import *\n",
    "Javascript(\"\"\"\n",
    "function repeter(){\n",
    "IPython.notebook.kernel.execute(\"a=1\");\n",
    "}\n",
    "// execute a = 1 en python toutes les 8 minutes pendant 2h\n",
    "let timerId = setInterval(() => repeter(), 4800);\n",
    "setTimeout(() => { clearInterval(timerId); alert('fin de cession'); }, 7200000);\n",
    "\n",
    "// Supprimer la taille limite pour la sortie d'une cellule\n",
    "IPython.OutputArea.prototype._should_scroll = function(lines) {\n",
    "    return false;\n",
    "};\n",
    "IPython.notebook.kernel.execute(\"url = '\" + window.location + \"'\");\n",
    "\n",
    "// Exécuter toutes les cellule du notebook\n",
    "    require(\n",
    "        ['base/js/namespace', 'jquery'], \n",
    "        function(jupyter, $) {\n",
    "            \n",
    "                \n",
    "                jupyter.actions.call('jupyter-notebook:run-all-cells-below');\n",
    "                jupyter.actions.call('jupyter-notebook:save-notebook');\n",
    "                Jupyter.actions.call('jupyter-notebook:hide-header')\n",
    "\n",
    "        }\n",
    "    );\"\"\")"
   ]
  },
  {
   "cell_type": "markdown",
   "metadata": {
    "slideshow": {
     "slide_type": "slide"
    }
   },
   "source": [
    "# <span style=\"color:red;\"><center> TD - Tri par sélection et par insertion</span>"
   ]
  },
  {
   "cell_type": "markdown",
   "metadata": {
    "slideshow": {
     "slide_type": "slide"
    }
   },
   "source": [
    "## 1. Implémentation des tris"
   ]
  },
  {
   "cell_type": "markdown",
   "metadata": {},
   "source": [
    "### 1.1 Tri par sélection\n",
    "\n",
    "**Fonction** tri_selection (tab)\n",
    "> *tab est un tableau de n valeurs numériques qui est trié en place (tab est modifié mais la fonction ne retourne rien).*  \n",
    ">\n",
    "> *float* : mini  *# La valeur minimale trouvée*  \n",
    "> *int* : i_mini *# L'indice de la valeur minimale trouvée*  \n",
    "> n $\\leftarrow$ taille(tab)  \n",
    "> *# i correspond au premier indice du tableau restant à trier, quand i=n-2 le tableau à trier correspond aux 2 derniers éléments de tab*  \n",
    "> **Pour** i allant de 0 à n-2 **faire**   \n",
    ">> i_mini $\\leftarrow$ i  *# On initialise avec le premier indice du tableau à trier.*  \n",
    ">> mini $\\leftarrow$ tab[i]  *# On initialise avec la première valeur du tableau à trier.*  \n",
    ">> **Pour** j allant de i+1 à n-1 **faire**  *# On parcourt le reste du tableau à trier.*\n",
    ">>> **Si** tab[j] < mini **alors**  *# Si on trouve une valeur plus petite on met à jour i_mini et mini.*  \n",
    ">>>> i_mini $\\leftarrow$ j  \n",
    ">>>> mini $\\leftarrow$ tab[j]  \n",
    ">>\n",
    ">> **Permuter** tab[i] et tab[i_mini]  *# On permute la première valeur du tableau non-trié avec le minimum trouvé*"
   ]
  },
  {
   "cell_type": "markdown",
   "metadata": {
    "slideshow": {
     "slide_type": "-"
    }
   },
   "source": [
    "**Q1. A partir du pseudo-code ci-dessus, implémenter l'algorithme de tri par sélection en Python.**"
   ]
  },
  {
   "cell_type": "code",
   "execution_count": 12,
   "metadata": {},
   "outputs": [],
   "source": [
    "#Question 1\n",
    "def tri_selection(tab):\n",
    "    \"\"\"tab est un tableau de n valeurs numériques qui peut être trié en place (tab est modifié mais la fonction ne retourne rien)\n",
    "    ou pas (on crée une copie tabCopy de tab, on la trie et on renvoie [tabCopy, compt] où compt est le nombre d'itérations total).\"\"\"\n",
    "    n=len(tab)\n",
    "    compt=0\n",
    "    tabCopy=list(tab) #à commenter pour un tri en place\n",
    "    #tabCopy=tab # à décommenter pour un tri en place\n",
    "    for i in range(n-1):\n",
    "        i_mini=i\n",
    "        mini=tabCopy[i]\n",
    "        for j in range(i+1,n):\n",
    "            if tabCopy[j]<mini :\n",
    "                i_mini=j\n",
    "                mini=tabCopy[j]\n",
    "            compt=compt+1\n",
    "            #print(compt)\n",
    "        tabCopy[i],tabCopy[i_mini]=tabCopy[i_mini],tabCopy[i]\n",
    "    return [tabCopy,compt] # à commenter pour un tri en place"
   ]
  },
  {
   "cell_type": "markdown",
   "metadata": {},
   "source": [
    "**COMMENTAIRE :**\n",
    "> Quand, dans le pseudo code, on a une boucle `Pour i allant de 0 à n-1 faire` cela se traduit en Python par `for i in range(n)`. De manière plus générale, `Pour i allant de deb à fin faire` se traduit par `for i in range(deb, fin+1)`."
   ]
  },
  {
   "cell_type": "markdown",
   "metadata": {
    "slideshow": {
     "slide_type": "subslide"
    }
   },
   "source": [
    "### 1.2 Tri par insertion\n",
    "\n",
    "**Fonction** tri_insertion (tab)\n",
    "> *tab est un tableau de n valeurs numériques qui est trié en place (tab est modifié mais la fonction ne retourne rien).*  \n",
    ">\n",
    "> n $\\leftarrow$ taille(tab)  \n",
    "> *# i correspond au dernier indice du tableau déjà trié, quand i=n-2 il ne reste plus qu'à insérer au bon endroit le dernier élément du tableau, c'est donc bien la dernière itération.*  \n",
    "> **Pour** i allant de 0 à n-2 **faire**   \n",
    ">> j $\\leftarrow$ i+1  *# j est l'indice de la valeur à insérer dans le tableau déjà trié.*  \n",
    ">> **Tant que** j >0 **et** tab[j]<tab[j-1] **faire**  *# L'indice j de la valeur à insérer est décrémentée tant qu'on est pas au début du tableau et qu'on a pas trouvé une valeur supérieure à sa gauche.*\n",
    ">>> **Permuter** tab[j] et tab[j-1]  *# On permute la valeur à insérer avec celle qui est à sa gauche.*  \n",
    ">>> j $\\leftarrow$ j-1  *# On décrémente j puisque la valeur à insérer est décalée d'un cran vers la gauche.*"
   ]
  },
  {
   "cell_type": "markdown",
   "metadata": {
    "slideshow": {
     "slide_type": "-"
    }
   },
   "source": [
    "**Q2. A partir du pseudo-code ci-dessus, implémenter l'algorithme de tri par insertion en Python.**"
   ]
  },
  {
   "cell_type": "code",
   "execution_count": 15,
   "metadata": {},
   "outputs": [],
   "source": [
    "# Question 2\n",
    "def tri_insertion(tab):\n",
    "    \"\"\"tab est un tableau de n valeurs numériques qui peut être trié en place (tab est modifié mais la fonction ne retourne rien)\n",
    "    ou pas (on crée une copie tabCopy de tab, on la trie et on renvoie [tabCopy, compt] où compt est le nombre d'itérations total).\"\"\"\n",
    "    n=len(tab)\n",
    "    compt=0\n",
    "    tabCopy=list(tab) #à commenter pour un tri en place\n",
    "    #tabCopy=tab # à décommenter pour un tri en place\n",
    "    for i in range (n-1):\n",
    "        j=i+1\n",
    "        while j>0 and tabCopy[j]<tabCopy[j-1]:\n",
    "            tabCopy[j],tabCopy[j-1]=tabCopy[j-1],tabCopy[j]\n",
    "            j=j-1\n",
    "            compt=compt+1\n",
    "            #print(compt)\n",
    "    return [tabCopy,compt] # à commenter pour un tri en place"
   ]
  },
  {
   "cell_type": "markdown",
   "metadata": {},
   "source": [
    "**COMMENTAIRE :**\n",
    "\n",
    ">Quand, dans le pseudo code, on a une boucle `Pour i allant de 0 à n-1 faire` cela se traduit en Python par `for i in range(n)`. De manière plus générale, `Pour i allant de deb à fin faire` se traduit par `for i in range(deb, fin+1)`."
   ]
  },
  {
   "cell_type": "markdown",
   "metadata": {
    "slideshow": {
     "slide_type": "subslide"
    }
   },
   "source": [
    "### 1.3 Test des tris\n",
    "\n",
    "**Utiliser le code ci-dessous pour tester vos algorithmes de tri sur une liste d'entiers aléatoires.** On pourra faire varier la taille $N$ de la liste et les bornes inférieures et supérieures `valMin` et `valMax` des valeurs aléatoires et on utlisera **les 2 algorithmes de tri** précédents (ligne à décommenter). Dans tous les cas, **on vérifiera juste que les liste affichées après le tri sont bien triées par ordre croissant**."
   ]
  },
  {
   "cell_type": "code",
   "execution_count": 16,
   "metadata": {},
   "outputs": [
    {
     "name": "stdout",
     "output_type": "stream",
     "text": [
      "Liste de départ : [4, 1, 7, 7, 5, 8, 3, 1, 5, 4]\n",
      "Liste triée : [4, 1, 7, 7, 5, 8, 3, 1, 5, 4]\n"
     ]
    }
   ],
   "source": [
    "from random import randint\n",
    "#Création d'une Liste de N entiers aléatoires tirés entre valMin et valMax\n",
    "N=10\n",
    "valMin=0\n",
    "valMax=10\n",
    "L = [randint(valMin,valMax) for i in range(N)]\n",
    "\n",
    "#Affichage de la liste aléatoire et du résultat du tri\n",
    "print('Liste de départ :',L)\n",
    "tri_selection(L)\n",
    "#tri_insertion(L) #Décommenter cette ligne et commenter la ligne du dessus pour tester tri_insertion\n",
    "print('Liste triée :',L)"
   ]
  },
  {
   "cell_type": "markdown",
   "metadata": {},
   "source": [
    "**COMMENTAIRE :**\n",
    "\n",
    "> Le code ci-dessous ne fonctionne plus (les listes ne sont pas triées) une fois que les fonctions ont été modifiées pour ne plus faire de tri en place. C'est parfaitement normal !"
   ]
  },
  {
   "cell_type": "markdown",
   "metadata": {
    "slideshow": {
     "slide_type": "subslide"
    }
   },
   "source": [
    "Le fait de trier les liste **en place** complique un peu les tests. En effet, si je lance les deux tris à la suite sur la même liste, le deuxième tri s'effectuera sur une liste déjà triée. Je ne pourrai donc **pas comparer les deux algorithmes**. C'est pour cela que dans le code précédent, on ne peut activer qu'un algorithme de tri à la fois en commentant/décommentant.\n",
    "\n",
    "Afin de vérifier que le tri par insertion a une complexité moindre que le tri par sélection, on peut dans un premier temps ajouté dans leurs algorithme un compteur d'itération que l'on incrémente de 1, à chaque fois que l'on passe dans la deuxième boucle.\n",
    "\n",
    "**Q3. Modifier vos fonctions `tri_selection(tab)` et `tri_insertion(tab)` afin qu'elles retournent une liste de la forme [liste triée, nbIter], sans modifier la liste passée en argument.  Puis tester les algorithmes modifiés avec le code à compléter ci-dessous.**"
   ]
  },
  {
   "cell_type": "code",
   "execution_count": 25,
   "metadata": {},
   "outputs": [
    {
     "name": "stdout",
     "output_type": "stream",
     "text": [
      "Liste de départ : [5, 10, 5, 6, 8, 3, 8, 9, 3, 2]\n",
      "Liste triée par sélection : [2, 3, 3, 5, 5, 6, 8, 8, 9, 10] Nombre d'itérations  45\n",
      "Liste triée par insertion : [2, 3, 3, 5, 5, 6, 8, 8, 9, 10] Nombre d'itérations  26\n",
      "Liste initiale : [5, 10, 5, 6, 8, 3, 8, 9, 3, 2]\n"
     ]
    }
   ],
   "source": [
    "# Question 3\n",
    "from random import randint\n",
    "#Création d'une Liste de N entiers aléatoires tirés entre valMin et valMax\n",
    "N=10\n",
    "valMin=0\n",
    "valMax=10\n",
    "L = [randint(valMin,valMax) for i in range(N)]\n",
    "\n",
    "#Affichage de la liste aléatoire et du résultat du tri\n",
    "print('Liste de départ :', L)\n",
    "L1=tri_selection(L)\n",
    "L2=tri_insertion(L)\n",
    "print('Liste triée par sélection :', L1[0], \"Nombre d'itérations \", L1[1]) #Ligne à compléter\n",
    "print('Liste triée par insertion :', L2[0], \"Nombre d'itérations \", L2[1]) #Ligne à compléter\n",
    "print(\"Liste initiale :\", L)"
   ]
  },
  {
   "cell_type": "markdown",
   "metadata": {},
   "source": [
    "**COMMENTAIRES :**\n",
    "\n",
    "> Cette fois, on affecte les résultats renvoyés par les fonctions de tri aux variables L1 et L2 qu'on affiche ensuite. On peut vérifier en l'affichant à la fin que la liste L de départ n'a pas été modifiée.  \n",
    "> En faisant plusieurs essais, on constate que que le **tri par insertion utilise systématiquement moins d'itérations pour effectuer le tri**. En moyenne, il en fait 2 fois moins."
   ]
  },
  {
   "cell_type": "markdown",
   "metadata": {
    "slideshow": {
     "slide_type": "slide"
    }
   },
   "source": [
    "## 2. Mesures de complexité"
   ]
  },
  {
   "cell_type": "markdown",
   "metadata": {
    "slideshow": {
     "slide_type": "subslide"
    }
   },
   "source": [
    "### 2.1 Comparaison des algorithmes\n",
    "\n",
    "On utilise la commande `timeit` pour comparer le temps d'exécution des tris pas insertion et par sélection, ainsi que le tri intégré dans Python (fonction `sorted`) qui est basée sur l'algorithme *timsort* (association du tri fusion et du tri par insertion).\n",
    "\n",
    "**Remarque importante :**\n",
    "\n",
    "En moyenne, le **tri par insertion devrait être environ 2 fois plus rapide que le tri par sélection** mais ce n'est probablement pas ce que vous allez observer. Il se pourrait même que la mesure donne une durée plus longue pour le tri par insertion que pour le tri par sélection.  \n",
    "Ceci montre que la réalité est toujours plus complexe que la théorie. En effet, même s'il fait moins d'itérations, un algorithme peut être plus long à s'exécuter si les opérations élémentaires exécutées lors d'une itération sont plus longues. Justement parce qu'en fait, ce ne sont **pas vraiment des opérations élémentaires** !"
   ]
  },
  {
   "cell_type": "code",
   "execution_count": 19,
   "metadata": {
    "slideshow": {
     "slide_type": "-"
    }
   },
   "outputs": [
    {
     "name": "stdout",
     "output_type": "stream",
     "text": [
      "Durée d'exécution pour le tri par sélection :\n",
      "64 ms ± 1.97 ms per loop (mean ± std. dev. of 7 runs, 10 loops each)\n",
      "Durée d'exécution pour tri par insertion :\n",
      "96.9 ms ± 7.46 ms per loop (mean ± std. dev. of 7 runs, 10 loops each)\n",
      "Durée d'exécution pour timsort :\n",
      "112 µs ± 4.65 µs per loop (mean ± std. dev. of 7 runs, 10000 loops each)\n"
     ]
    }
   ],
   "source": [
    "from timeit import Timer\n",
    "\n",
    "#Création d'une Liste de N entiers aléatoires tirés entre valMin et valMax\n",
    "N=1000\n",
    "valMin=0\n",
    "valMax=N\n",
    "L = [randint(valMin,valMax) for i in range(N)]\n",
    "\n",
    "print(\"Durée d'exécution pour le tri par sélection :\")\n",
    "%timeit tri_selection(L)\n",
    "print(\"Durée d'exécution pour tri par insertion :\")\n",
    "%timeit tri_insertion(L)\n",
    "print(\"Durée d'exécution pour timsort :\")\n",
    "%timeit sorted(L)"
   ]
  },
  {
   "cell_type": "markdown",
   "metadata": {},
   "source": [
    "**COMMENTAIRE :**\n",
    "\n",
    "> Si `timsort`est environ **1000 fois plus rapide que nos 2 algorithmes de tri**, le **tri par insertion est plus lent que tri par sélection**. Ceci est **surprenant** car, comme on le verra après, il utilise un **plus petit nombre d'itérations**."
   ]
  },
  {
   "cell_type": "markdown",
   "metadata": {},
   "source": [
    "### 2.2 Pire et meilleur des cas\n",
    "\n",
    "Le tri par sélection fonctionne de la même façon quelle que soit la liste fournie en entrée. Par contre, nous avons vu que que **le fonctionnement du tri par insertion pouvait varier selon les cas**. La comparaison précédente donne-t-elle le même résultat dans le pire et le meilleur cas pour le tri par insertion ?\n",
    "\n",
    "**En théorie**, les 2 algorithmes sont **équivalents dans le pire des cas** mais le **tri par insertion devient linéaire** et donc beaucoup plus rapide que le tri par sélection **dans le meilleur des cas**.\n",
    "\n",
    "**Q4. Dans le programme précédent, modifier la liste L fournie en entrée afin de renouveler la comparaison, mais cette fois dans le pire et le meilleur des cas (pour l'agorithme de tri par insertion).**"
   ]
  },
  {
   "cell_type": "code",
   "execution_count": 24,
   "metadata": {
    "slideshow": {
     "slide_type": "-"
    }
   },
   "outputs": [
    {
     "name": "stdout",
     "output_type": "stream",
     "text": [
      "PIRE DES CAS :\n",
      "Durée d'exécution pour le tri par sélection :\n",
      "57.9 ms ± 1.83 ms per loop (mean ± std. dev. of 7 runs, 10 loops each)\n",
      "Durée d'exécution pour tri par insertion :\n",
      "148 ms ± 4.88 ms per loop (mean ± std. dev. of 7 runs, 10 loops each)\n",
      "Durée d'exécution pour timsort :\n",
      "39.8 µs ± 1.19 µs per loop (mean ± std. dev. of 7 runs, 10000 loops each)\n",
      "MEILLEUR DES CAS :\n",
      "Durée d'exécution pour le tri par sélection :\n",
      "46.9 ms ± 2.54 ms per loop (mean ± std. dev. of 7 runs, 10 loops each)\n",
      "Durée d'exécution pour tri par insertion :\n",
      "168 µs ± 7.95 µs per loop (mean ± std. dev. of 7 runs, 10000 loops each)\n",
      "Durée d'exécution pour timsort :\n",
      "8.28 µs ± 692 ns per loop (mean ± std. dev. of 7 runs, 100000 loops each)\n"
     ]
    }
   ],
   "source": [
    "# Question 4\n",
    "N=1000\n",
    "#Création d'une Liste de N entiers dans le pire des cas\n",
    "L = sorted([randint(0,N) for i in range(N)], reverse=True) #liste triée par ordre décroissant\n",
    "\n",
    "print(\"PIRE DES CAS :\")\n",
    "print(\"Durée d'exécution pour le tri par sélection :\")\n",
    "%timeit tri_selection(L)\n",
    "print(\"Durée d'exécution pour tri par insertion :\")\n",
    "%timeit tri_insertion(L)\n",
    "print(\"Durée d'exécution pour timsort :\")\n",
    "%timeit sorted(L)\n",
    "\n",
    "#Création d'une Liste de N entiers dans le meilleur des cas\n",
    "L = sorted([randint(0,N) for i in range(N)])#liste déjà triée\n",
    "\n",
    "print(\"MEILLEUR DES CAS :\")\n",
    "print(\"Durée d'exécution pour le tri par sélection :\")\n",
    "%timeit tri_selection(L)\n",
    "print(\"Durée d'exécution pour tri par insertion :\")\n",
    "%timeit tri_insertion(L)\n",
    "print(\"Durée d'exécution pour timsort :\")\n",
    "%timeit sorted(L)"
   ]
  },
  {
   "cell_type": "markdown",
   "metadata": {},
   "source": [
    "**COMMENTAIRES :**\n",
    "\n",
    "> Dans le **pire des cas (liste initiale triée par ordre décroissant)**, les tris par sélection et par insertion sont **normalement équivalents** car ils font le **même nombre d'itérations**, mais on observe ici que le **tri par insertion s'avère environ 3 fois plus lent**.  \n",
    "> Ceci est cohérent avec les résultats précédents puisqu'en moyenne il devrait être 2 fois plus rapide. Or nos mesures l'avait donné (question 2.1) environ 1,5 fois plus lent. Pour résumer, le **tri par insertion fait donc 2 fois moins d'itérations en moyenne mais comme chaque itération est 3 fois plus longue, cela le rend bien 1,5 fois plus lent**.  \n",
    "> Dans tous les cas, **l'algorithme de tri intégré dans Python reste bien plus rapide**."
   ]
  },
  {
   "cell_type": "markdown",
   "metadata": {
    "slideshow": {
     "slide_type": "subslide"
    }
   },
   "source": [
    "### 2.3 Vérification de la complexité\n",
    "\n",
    "On veut vérifier que la **complexité moyenne des algorithmes de tri par sélection et insertion sont quadratiques** et la comparer à celle du tri intégré dans Python.\n",
    "\n",
    "Le code ci-dessous permet de tracer les **courbes donnant le temps d'exécution des 3 algorithmes de tri en fonction de la taille n du tableau à trier**. Une courbe de modélisation quadratique est ajoutée pour les tris par sélection et insertion.\n",
    "\n",
    "**ATTENTION :**\n",
    "\n",
    "Si le comportement quadratique se voit très bien, par contre, pour les raisons expliquées plus haut, ce programme ne donne pas les résultats attendus en terme de comparaison.\n",
    "\n",
    "**Q5. Après l'avoir testé tel quel, modifier le programme ci-dessous pour utiliser le nombre d'itérations en ordonnée au lieu de la durée d'exécution. En bonus, on pourra regarder ce que l'on obtient dans le pire et le meilleur des cas.**"
   ]
  },
  {
   "cell_type": "code",
   "execution_count": 33,
   "metadata": {
    "slideshow": {
     "slide_type": "-"
    }
   },
   "outputs": [
    {
     "name": "stdout",
     "output_type": "stream",
     "text": [
      "N =  1000\n",
      "N =  2000\n",
      "N =  3000\n",
      "N =  4000\n",
      "N =  5000\n",
      "N =  6000\n",
      "N =  7000\n",
      "N =  8000\n",
      "N =  9000\n",
      "N =  10000\n",
      "Modele 1 : y = 5.00E-01*N²\n",
      "Modele 2 : y = 5.00E-01*N²\n"
     ]
    },
    {
     "data": {
      "image/png": "[encoded data removed]",
      "text/plain": [
       "<Figure size 432x288 with 1 Axes>"
      ]
     },
     "metadata": {
      "needs_background": "light"
     },
     "output_type": "display_data"
    }
   ],
   "source": [
    "from matplotlib import pyplot as plt\n",
    "from scipy.optimize import curve_fit\n",
    "\n",
    "def quadratique (x,a): # fonction quadratique de la forme y=f(a*x²)\n",
    "    return a*x*x\n",
    "\n",
    "# Faire une boucle sur les valeurs de n pour calculer les temps d'exécution sur chacun des 2 algorithme\n",
    "# La liste abscisse contiendra les valeurs de n, les listes ordonnee1, ordonnee2 et ordonnee3 contiendront les temps\n",
    "# d'exécution des 3 algorihtmes. \n",
    "abscisse=[]\n",
    "ordonnee1=[]\n",
    "ordonnee2=[]\n",
    "ordonnee3=[]\n",
    "modele1=[]\n",
    "modele2=[]\n",
    "\n",
    "Nbessai=1\n",
    "Nbrepet=1\n",
    "inc=1000\n",
    "debut=1000\n",
    "fin=11000\n",
    "for N in range(debut,fin,inc): # la taille N du tableau varie de debut à fin par pas de inc\n",
    "    print('N = ',N)\n",
    "    abscisse.append(N) # N sera en abscisse\n",
    "    nbiter1=0\n",
    "    nbiter2=0\n",
    "    for i in range(Nbrepet):\n",
    "#        L=sorted([randint(0,N) for k in range(N)]) # meilleur cas\n",
    "        L=sorted([randint(0,N) for k in range(N)], reverse=True) # pire cas\n",
    "#        L=[randint(0,N) for k in range(N)] # cas moyen\n",
    "        L1=tri_selection(L)\n",
    "        nbiter1=nbiter1+L1[1]\n",
    "        L2=tri_insertion(L)\n",
    "        nbiter2=nbiter2+L2[1]\n",
    "    ordonnee1.append(nbiter1/Nbrepet)\n",
    "    ordonnee2.append(nbiter2/Nbrepet)\n",
    " \n",
    "#    t1 = Timer(\"tri_selection(L)\", globals=globals()) # on crée un timer pour tri_selection\n",
    "#    ordonnee1.append(min(t1.repeat(Nbessai,Nbrepet))) # on ajoute à ordonnée 1 le temps minimum sur Nbessai essais de Nbrepet recherches\n",
    "#    t2 = Timer(\"tri_insertion(L)\", globals=globals()) # on crée un timer pour tri_insertion\n",
    "#    ordonnee2.append(min(t2.repeat(Nbessai,Nbrepet))) # on ajoute à ordonnée 2 le temps minimum sur Nbessai essais de Nbrepet recherches\n",
    "#    t3 = Timer(\"sorted(L)\", globals=globals()) # on crée un timer pour sorted\n",
    "#    ordonnee3.append(min(t3.repeat(Nbessai,Nbrepet))) # on ajoute à ordonnée 2 le temps minimum sur Nbessai essais de Nbrepet recherches\n",
    "\n",
    "#calcul des paramètres de modélisation pour ordonnee1 et ordonnee2\n",
    "parametres1, covariance = curve_fit(quadratique, abscisse, ordonnee1) \n",
    "parametres2, covariance = curve_fit(quadratique, abscisse, ordonnee2)\n",
    "\n",
    "for i in range(len(abscisse)) : #construction des ordonnées pour les 2 modèles\n",
    "    modele1.append(quadratique(abscisse[i],*parametres1))\n",
    "    modele2.append(quadratique(abscisse[i],*parametres2))\n",
    "    \n",
    "# courbes pour les modèles avec légende    \n",
    "plt.plot(abscisse,modele1)\n",
    "plt.plot(abscisse,modele2)\n",
    "print('Modele 1 : y = {:.2E}*N²'.format(*parametres1))\n",
    "print('Modele 2 : y = {:.2E}*N²'.format(*parametres2))\n",
    "\n",
    "# nom des axes    \n",
    "plt.xlabel('Longueur N de la liste')\n",
    "plt.ylabel(\"Nombre d'itérations\")\n",
    "# definition des courbes\n",
    "plt.scatter(abscisse,ordonnee1,color='red')\n",
    "plt.scatter(abscisse,ordonnee2,color='blue')\n",
    "#plt.scatter(abscisse,ordonnee3,color='green')\n",
    "#tracé du graphique\n",
    "plt.show()"
   ]
  },
  {
   "attachments": {
    "Meilleur%20cas%20Nb%20iteration%201%20essai%201%20repetition.png": {
     "image/png": "[encoded data removed]"
    },
    "Nb%20iteration%201%20essai%201%20repetition.png": {
     "image/png": "[encoded data removed]"
    },
    "Pire%20cas%20Nb%20iteration%201%20essai%201%20repetition.png": {
     "image/png": "[encoded data removed]"
    },
    "Temps%20ex%C3%A9cution%205%20essais%2010%20repetitions.png": {
     "image/png": "[encoded data removed]"
    }
   },
   "cell_type": "markdown",
   "metadata": {},
   "source": [
    "**COMMENTAIRES :**\n",
    "\n",
    "> **Sans modifier le code**, avec un nombre d'essais `Nbessai = 5` et nombre de répétitions `Nbrepet = 10`, on obtient ceci :\n",
    "![Temps%20ex%C3%A9cution%205%20essais%2010%20repetitions.png](attachment:Temps%20ex%C3%A9cution%205%20essais%2010%20repetitions.png)\n",
    "Les **points verts** correspondent au **tri intégré à Python** et on voit bien qu'il reste **toujours bien plus rapide que les tris par insertion et sélection**.  \n",
    "Concernant ces derniers, on retrouve les résultats précédents avec, contrairement à ce qui était attendu, un **tri par insertion (en bleu) plus lent que le tri par sélection (en rouge)**. Par contre, la **modélisation quadratique** (courbes bleu clair et orange) donne **d'excellents résultats dans les 2 cas**, confirmant la **complexité quadratique** de ces algorithmes. On retrouve aussi le fait que le **tri par insertion se montre 1,5 fois plus lent que le tri par sélection** en **comparant les coefficients de la modélisation** ($6,43/4,3 \\approx 1.5$).  \n",
    ">\n",
    "> En **modifiant le code pour utiliser le nombre d'itérations** au lieu du temps d'exécution en ordonnée on obtient ceci (`Nbrepet = Nbessai = 1` et pour des listes d'entiers aléatoires) :\n",
    "![Nb%20iteration%201%20essai%201%20repetition.png](attachment:Nb%20iteration%201%20essai%201%20repetition.png)\n",
    "Le tri intégré dans Python n'apparait plus car il ne renvoie pas le nombre d'itérations. Cette fois, on obtient le résultat attendu : **le tri par insertion (en bleu) est en moyenne 2 fois plus rapide que le tri par sélection (en rouge)**, le facteur 2 étant **confirmé par les coefficients de la modélisation** (on retrouve même le résultat exact, à savoir  $y=N^2/2$ pour le tri par sélection et $y=N^2/4$ pour le tri par insertion).\n",
    "\n",
    "**BONUS**\n",
    "\n",
    "> On peut pousser plus loin la comparaison en regardant ce qu'on obtient **dans le pire (liste triée par ordre décroissant) et dans le meilleur (liste déjà triée par ordre croissant) des cas**.\n",
    "> - Dans le **meilleur des cas**, on obtient ceci :\n",
    "![Meilleur%20cas%20Nb%20iteration%201%20essai%201%20repetition.png](attachment:Meilleur%20cas%20Nb%20iteration%201%20essai%201%20repetition.png)\n",
    "> Comme prévu, ça ne **change rien pour le tri par sélection** qui reste quadratique. Par contre, le **tri par insertion devient linéaire** et donc beaucoup plus rapide.\n",
    "> - Dans le **pire des cas**, on obtient ceci :\n",
    "![Pire%20cas%20Nb%20iteration%201%20essai%201%20repetition.png](attachment:Pire%20cas%20Nb%20iteration%201%20essai%201%20repetition.png)\n",
    "> Là encore, on obtient ce qui était prévu, les **2 algorithmes sont parfaitement équivalents** et leurs courbes sont donc parfaitement superposées (on ne voit que la deuxième qui cache la première)."
   ]
  },
  {
   "cell_type": "markdown",
   "metadata": {
    "slideshow": {
     "slide_type": "subslide"
    }
   },
   "source": [
    "## 3. Preuve de la correction\n",
    "\n",
    "### 3.1 Tri par sélection\n",
    "\n",
    "**L'invariant de boucle** est :  \n",
    "> \"A la fin de l'itération $i$, les $i+1$ premiers éléments du tableau sont triés par ordre croissant et le reste du tableau (non trié) ne contient que des valeurs supérieures ou égales à celles déjà triées\".\n",
    "\n",
    "**Q6. Montrer que cette propriété est vraie pour $i=0$, puis, que si elle est vraie pour $i=k$ alors elle est encore vraie pour $i=k+1$.**"
   ]
  },
  {
   "cell_type": "markdown",
   "metadata": {
    "slideshow": {
     "slide_type": "subslide"
    }
   },
   "source": [
    "**Réponse :**\n",
    "\n",
    "> Pour $i=0$, la propriété s'écrit : \"A la fin de l'itération $0$, le premier élément du tableau est trié et le reste du tableau ne contient que des valeurs supérieures ou égales à cette valeur\". Comme à la fin de la première itération le premier élément du tableau est la valeur minimum de l'ensemble du tableau, la propriété est vraie.\n",
    ">\n",
    "> On suppose que la propriété est vraie à la fin de l'itération $i=k$. Les $k+1$ premiers éléments du tableau sont donc triés par ordre croissant et le reste du tableau ne contient que des valeurs supérieures ou égales à la dernière valeur triée.\n",
    ">\n",
    "> A la fin de l'itération suivante, on a permuté la valeur minimum du tableau non-trié avec l'élément d'indice $k+1$, c'est-à-dire le $k+2^{ème}$ élément, ou encore la première valeur du tableau non-trié. Or, on sait par hypothèse que ce nouvel élément d'indice $k+1$ est forcément supérieur aux $k+1$ premiers éléments déjà triés. Ce sont donc maintenant les $k+2$ premiers éléments qui sont triés.\n",
    ">\n",
    "> Quand au reste du tableau, il contient forcément des valeurs supérieures ou égales au dernier élément trié puisque c'était un minimum.\n",
    ">\n",
    "> Après une itération, la propriété est donc encore vraie pour $i=k+1$."
   ]
  },
  {
   "cell_type": "markdown",
   "metadata": {
    "slideshow": {
     "slide_type": "subslide"
    }
   },
   "source": [
    "### 3.2 Tri par insertion\n",
    "\n",
    "**L'invariant de boucle** est :  \n",
    "> \"A la fin de l'itération $i$, les $i+2$ premiers éléments du tableau sont triés par ordre croissant\".\n",
    "\n",
    "**Q7. Montrer que cette propriété est vraie pour $i=0$, puis, que si elle est vraie pour $i=k$ alors elle est encore vraie pour $i=k+1$.**"
   ]
  },
  {
   "cell_type": "markdown",
   "metadata": {
    "slideshow": {
     "slide_type": "subslide"
    }
   },
   "source": [
    "**Réponse :** \n",
    "\n",
    "> Pour $i=0$, la propriété devient : \"A la fin de l'itération $0$, les 2 premiers éléments sont triés par ordre croissant\". Or, à la fin de la première itération, on a permuté les 2 premières valeurs si la deuxième était plus petite que la première. Sinon, on a rien changé. Dans tous les cas, les 2 premières valeurs sont bien triées par ordre croissante et la propriété est vraie.\n",
    ">\n",
    "> Supposons maintenant que la propriété est vraie à la fin de l'itération $i=k$. Alors on peut dire qu'à la fin de cette itération les $k+2$ premiers éléments du tableau sont triés par ordre croissant.\n",
    ">\n",
    "> Lors de l'itération suivante, on permute le $k+3^{ème}$ élément avec l'élément qui est à sa gauche, jusqu'à ce que dernier soit plus petit que lui. A la fin de cette itération, ce sont donc bien les $k+3$ premiers éléments du tableau qui sont triés par ordre croissant. La propriété est donc vraie pour $i=k+1$.\n"
   ]
  }
 ],
 "metadata": {
  "celltoolbar": "none",
  "kernelspec": {
   "display_name": "Python 3",
   "language": "python",
   "name": "python3"
  },
  "language_info": {
   "codemirror_mode": {
    "name": "ipython",
    "version": 3
   },
   "file_extension": ".py",
   "mimetype": "text/x-python",
   "name": "python",
   "nbconvert_exporter": "python",
   "pygments_lexer": "ipython3",
   "version": "3.7.4"
  }
 },
 "nbformat": 4,
 "nbformat_minor": 4
}
